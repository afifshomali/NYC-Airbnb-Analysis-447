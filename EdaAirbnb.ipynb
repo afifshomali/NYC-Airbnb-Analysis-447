{
 "cells": [
  {
   "cell_type": "code",
   "execution_count": null,
   "metadata": {},
   "outputs": [],
   "source": [
    "# Author: Afif Shomali\n",
    "# Imports \n",
    "import pandas as pd\n",
    "import numpy as np\n",
    "import matplotlib.pyplot as plt\n"
   ]
  },
  {
   "cell_type": "markdown",
   "metadata": {},
   "source": [
    "# Exploratory Data Analysis of Airbnb Dataset\n",
    "\n",
    "Source: Inside Airbnb accessed at https://insideairbnb.com/get-the-data/ (Used New York City Datasets, used listings & reviews data)  \n",
    "License : [Creative Commons Attribution 4.0 International License](#https://creativecommons.org/licenses/by/4.0/)\n",
    "\n",
    "The listings dataset being used is one that has combined multiple months of data from Inside Airbnb, addtionaly, data preprocessing & cleaning was performed, see `PreProcessingAirbnb.ipynb` to see what changes were made.\n",
    "Some Features are not present in the orginal data and where Engineered using the other columns and reviews dataset, see `FeatureEngineeringAirbnb.ipynb` to see what was done.\n",
    "\n",
    "General Overview of this EDA:\n",
    "- Get a feel for the dataset and produce some visualizations for the final report & slides\n",
    "- Check Engineered columns and see which ones of them to keep for the modeling step\n",
    "- Run some statisical tests"
   ]
  }
 ],
 "metadata": {
  "kernelspec": {
   "display_name": "Python 3",
   "language": "python",
   "name": "python3"
  },
  "language_info": {
   "name": "python",
   "version": "3.12.1"
  }
 },
 "nbformat": 4,
 "nbformat_minor": 2
}
