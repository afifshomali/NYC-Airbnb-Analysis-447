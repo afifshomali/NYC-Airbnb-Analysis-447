{
 "cells": [
  {
   "cell_type": "markdown",
   "metadata": {},
   "source": [
    "# Feature Engineer for the Airbnb Dataset\n",
    "  - Create Feautres based on the host verification status \n",
    "  - Create Features based on the ammenties list\n",
    "  - Using Reviews data, get sentiment of each review, the for each host create a review score column (use average/some sort of metric based on counts of sentiments), impute values for any hosts with no reviews\n",
    "  - Extra: Try to create a Description/Title/host description/neighborhood overview column score based on the text from these columns, create some sort of metric that combines these into a new column\n",
    "  - Extra: Create a Feature that rates the listing photo and assigns it some sort of rating"
   ]
  }
 ],
 "metadata": {
  "kernelspec": {
   "display_name": "Python 3",
   "language": "python",
   "name": "python3"
  },
  "language_info": {
   "name": "python",
   "version": "3.12.1"
  }
 },
 "nbformat": 4,
 "nbformat_minor": 2
}
