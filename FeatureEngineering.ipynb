{
 "cells": [
  {
   "cell_type": "code",
   "execution_count": 13,
   "metadata": {},
   "outputs": [],
   "source": [
    "# Imports & loading dataset\n",
    "import pandas as pd\n",
    "import numpy as np\n",
    "import ast\n",
    "\n",
    "df = pd.read_csv(\"Datasets/AirbnbData/All_Listings_Cleaned.csv\")"
   ]
  },
  {
   "cell_type": "markdown",
   "metadata": {},
   "source": [
    "# Feature Engineer for the Airbnb Dataset\n",
    "  - Create Feautres based on the host verifications\n",
    "  - Create Features based on the amenities list\n",
    "  - Using Reviews data, get sentiment of each review, the for each host create a review score column (use average/some sort of metric based on counts of sentiments), impute values for any hosts with no reviews\n",
    "  - Extra: Try to create a Description/Title/host description/neighborhood overview column score based on the text from these columns, create some sort of metric that combines these into a new column\n",
    "  - Extra: Create a Feature that rates the listing photo and assigns it some sort of rating"
   ]
  },
  {
   "cell_type": "markdown",
   "metadata": {},
   "source": [
    "## Host Verification Status\n",
    "\n",
    "Since there are only 3 types of verification methods (phone, email, work_email), we can either create 3 binary columns or create a column that counts the number of verification methods. Some EDA will be done to check which of these two options is better by comparing to the 2 response variables we will use later on in the analysis, Price & whether the host is a superhost."
   ]
  },
  {
   "cell_type": "code",
   "execution_count": 14,
   "metadata": {},
   "outputs": [],
   "source": [
    "# Change column of strings to column lists\n",
    "df[\"host_verifications\"] = df[\"host_verifications\"].apply(ast.literal_eval)\n",
    "\n",
    "# Create column for number of verifications the host has\n",
    "df[\"num_host_verifications\"] = df[\"host_verifications\"].apply(len)\n",
    "\n",
    "# Create columns for which types of verifications the host has\n",
    "df[\"host_phone_verified\"] = df[\"host_verifications\"].apply(lambda x: 'phone' in x)\n",
    "df[\"host_email_verified\"] = df[\"host_verifications\"].apply(lambda x: 'email' in x)\n",
    "df[\"host_work_email_verified\"] = df[\"host_verifications\"].apply(lambda x: 'work_email' in x)\n"
   ]
  },
  {
   "cell_type": "code",
   "execution_count": null,
   "metadata": {},
   "outputs": [
    {
     "data": {
      "text/html": [
       "<div>\n",
       "<style scoped>\n",
       "    .dataframe tbody tr th:only-of-type {\n",
       "        vertical-align: middle;\n",
       "    }\n",
       "\n",
       "    .dataframe tbody tr th {\n",
       "        vertical-align: top;\n",
       "    }\n",
       "\n",
       "    .dataframe thead th {\n",
       "        text-align: right;\n",
       "    }\n",
       "</style>\n",
       "<table border=\"1\" class=\"dataframe\">\n",
       "  <thead>\n",
       "    <tr style=\"text-align: right;\">\n",
       "      <th></th>\n",
       "      <th>num_host_verifications</th>\n",
       "      <th>host_phone_verified</th>\n",
       "      <th>host_email_verified</th>\n",
       "      <th>host_work_email_verified</th>\n",
       "    </tr>\n",
       "  </thead>\n",
       "  <tbody>\n",
       "    <tr>\n",
       "      <th>0</th>\n",
       "      <td>1</td>\n",
       "      <td>True</td>\n",
       "      <td>False</td>\n",
       "      <td>False</td>\n",
       "    </tr>\n",
       "    <tr>\n",
       "      <th>1</th>\n",
       "      <td>2</td>\n",
       "      <td>True</td>\n",
       "      <td>True</td>\n",
       "      <td>False</td>\n",
       "    </tr>\n",
       "    <tr>\n",
       "      <th>2</th>\n",
       "      <td>2</td>\n",
       "      <td>True</td>\n",
       "      <td>True</td>\n",
       "      <td>False</td>\n",
       "    </tr>\n",
       "    <tr>\n",
       "      <th>3</th>\n",
       "      <td>2</td>\n",
       "      <td>True</td>\n",
       "      <td>True</td>\n",
       "      <td>False</td>\n",
       "    </tr>\n",
       "    <tr>\n",
       "      <th>4</th>\n",
       "      <td>2</td>\n",
       "      <td>True</td>\n",
       "      <td>True</td>\n",
       "      <td>False</td>\n",
       "    </tr>\n",
       "    <tr>\n",
       "      <th>...</th>\n",
       "      <td>...</td>\n",
       "      <td>...</td>\n",
       "      <td>...</td>\n",
       "      <td>...</td>\n",
       "    </tr>\n",
       "    <tr>\n",
       "      <th>42425</th>\n",
       "      <td>2</td>\n",
       "      <td>True</td>\n",
       "      <td>True</td>\n",
       "      <td>False</td>\n",
       "    </tr>\n",
       "    <tr>\n",
       "      <th>42426</th>\n",
       "      <td>1</td>\n",
       "      <td>True</td>\n",
       "      <td>False</td>\n",
       "      <td>False</td>\n",
       "    </tr>\n",
       "    <tr>\n",
       "      <th>42427</th>\n",
       "      <td>1</td>\n",
       "      <td>True</td>\n",
       "      <td>False</td>\n",
       "      <td>False</td>\n",
       "    </tr>\n",
       "    <tr>\n",
       "      <th>42428</th>\n",
       "      <td>3</td>\n",
       "      <td>True</td>\n",
       "      <td>True</td>\n",
       "      <td>True</td>\n",
       "    </tr>\n",
       "    <tr>\n",
       "      <th>42429</th>\n",
       "      <td>3</td>\n",
       "      <td>True</td>\n",
       "      <td>True</td>\n",
       "      <td>True</td>\n",
       "    </tr>\n",
       "  </tbody>\n",
       "</table>\n",
       "<p>42430 rows × 4 columns</p>\n",
       "</div>"
      ],
      "text/plain": [
       "       num_host_verifications  host_phone_verified  host_email_verified  \\\n",
       "0                           1                 True                False   \n",
       "1                           2                 True                 True   \n",
       "2                           2                 True                 True   \n",
       "3                           2                 True                 True   \n",
       "4                           2                 True                 True   \n",
       "...                       ...                  ...                  ...   \n",
       "42425                       2                 True                 True   \n",
       "42426                       1                 True                False   \n",
       "42427                       1                 True                False   \n",
       "42428                       3                 True                 True   \n",
       "42429                       3                 True                 True   \n",
       "\n",
       "       host_work_email_verified  \n",
       "0                         False  \n",
       "1                         False  \n",
       "2                         False  \n",
       "3                         False  \n",
       "4                         False  \n",
       "...                         ...  \n",
       "42425                     False  \n",
       "42426                     False  \n",
       "42427                     False  \n",
       "42428                      True  \n",
       "42429                      True  \n",
       "\n",
       "[42430 rows x 4 columns]"
      ]
     },
     "execution_count": 15,
     "metadata": {},
     "output_type": "execute_result"
    }
   ],
   "source": [
    "# EDA to check which version of these columns to use \n",
    "# Checking Price "
   ]
  },
  {
   "cell_type": "code",
   "execution_count": null,
   "metadata": {},
   "outputs": [],
   "source": []
  },
  {
   "cell_type": "markdown",
   "metadata": {},
   "source": [
    "## Amenities Column "
   ]
  },
  {
   "cell_type": "code",
   "execution_count": null,
   "metadata": {},
   "outputs": [],
   "source": []
  },
  {
   "cell_type": "markdown",
   "metadata": {},
   "source": [
    "## Creating Column Based on Sentiment of Reviews"
   ]
  },
  {
   "cell_type": "code",
   "execution_count": null,
   "metadata": {},
   "outputs": [],
   "source": []
  }
 ],
 "metadata": {
  "kernelspec": {
   "display_name": "Python 3",
   "language": "python",
   "name": "python3"
  },
  "language_info": {
   "codemirror_mode": {
    "name": "ipython",
    "version": 3
   },
   "file_extension": ".py",
   "mimetype": "text/x-python",
   "name": "python",
   "nbconvert_exporter": "python",
   "pygments_lexer": "ipython3",
   "version": "3.12.1"
  }
 },
 "nbformat": 4,
 "nbformat_minor": 2
}
