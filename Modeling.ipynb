{
 "cells": [
  {
   "cell_type": "markdown",
   "metadata": {},
   "source": [
    "# Modeling\n",
    "\n",
    "\n",
    "Oveviews of Models:\n",
    " \n",
    "- Model to predict whether a host is a super host status\n",
    "- Model to predict either price, number of bookings or occupancy rate\n",
    "- CLustering Analysis (may not be needed if we use PCA)"
   ]
  },
  {
   "cell_type": "code",
   "execution_count": 1,
   "metadata": {},
   "outputs": [],
   "source": [
    "# Imports\n",
    "import pandas as pd\n",
    "import numpy as np"
   ]
  },
  {
   "cell_type": "code",
   "execution_count": null,
   "metadata": {},
   "outputs": [],
   "source": [
    "# Loading Dataset\n",
    "df = pd.read_csv(\"Datasets/AirbnbData/ModelingData.csv\")"
   ]
  },
  {
   "cell_type": "markdown",
   "metadata": {},
   "source": [
    "# Modeling to predict whether a host is a super host\n",
    "\n",
    "A scenario where this model would be useful is if Airbnb wanted to Re-vamp its superhost assignment methods. Currently this is how Airbnb assigns superhost status:\n",
    "<blockquote>To be a Superhost, hosts must be the listing owner of a homes listing with an account in good standing and need to have met the following criteria:\n",
    "\n",
    "Hosted at least 10 reservations, or 3 reservations that total at least 100 nights\n",
    "Maintained a 90% or higher response rate  \n",
    "Maintained a less than 1% cancellation rate, with exceptions for cancellations due to Major Disruptive Events or other valid reasons  \n",
    "Maintained a 4.8 or higher overall rating (A review counts towards Superhost status when either both the guest and the host have submitted a review, or the 14-day window for reviews is over, whichever comes first.)  \n",
    "Note: The criteria is only evaluated for listings in which the host is the listing owner—any listings in which the host is a co-host won’t contribute towards their Superhost eligibility.</blockquote>\n",
    "\n",
    "Source: https://airbnb.com/help/article/829\n",
    "\n",
    "Airbnb may want to modify what factors go into assigning a superhost by looking at other aspects of a listing, but without having much of an effect on the people who currently are superhosts. We would then want to find a model that has a high true positive rate, meaning we correctly classify superhosts as superhosts. We want to focus on a model with higher Recall since the superhost variable is a bit unbalanced. However, we also don't want to compromise the overall accuracy too much as we don't just want to assign the majority of hosts as superhosts, since this would defeat the purpose of having a superhost feature in the first place.\n",
    "\n",
    "Models to test: \n",
    "- Logistic Regression\n",
    "- XGBoost/Light GBM/CatBoost\n",
    "- SVM"
   ]
  },
  {
   "cell_type": "markdown",
   "metadata": {},
   "source": [
    "## Logistic Regression\n",
    "\n",
    "Looking to train "
   ]
  },
  {
   "cell_type": "code",
   "execution_count": null,
   "metadata": {},
   "outputs": [],
   "source": []
  }
 ],
 "metadata": {
  "kernelspec": {
   "display_name": "Python 3",
   "language": "python",
   "name": "python3"
  },
  "language_info": {
   "codemirror_mode": {
    "name": "ipython",
    "version": 3
   },
   "file_extension": ".py",
   "mimetype": "text/x-python",
   "name": "python",
   "nbconvert_exporter": "python",
   "pygments_lexer": "ipython3",
   "version": "3.12.1"
  }
 },
 "nbformat": 4,
 "nbformat_minor": 2
}
