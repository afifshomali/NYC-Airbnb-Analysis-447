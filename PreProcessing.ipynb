{
 "cells": [
  {
   "cell_type": "code",
   "execution_count": 17,
   "metadata": {},
   "outputs": [],
   "source": [
    "# Imports\n",
    "import pandas as pd"
   ]
  },
  {
   "cell_type": "markdown",
   "metadata": {},
   "source": [
    "# Pre-Processing Airbnb Data\n",
    "Source: https://insideairbnb.com/get-the-data/ (New York City Datasets, used listings & reviews data)\n",
    "\n",
    "## Overview of Steps:\n",
    "(You can click on a specific step if you'd like to skip to seeing that part)\n",
    "- [Merge all data into dataset, removing duplicates by keeping most recent version of a listing](#merging-datasets)\n",
    "- [Go through and remove uneeded columns](#unecessary-column-removalpruning)\n",
    "- [Clean up Missing Values in dataset, impute using zero, median or average, remove row completely if needed](#handling-missing-values)\n",
    "- [Converting datatypes of certain columns, like price & True/False cols, string list to list columns, datetime](#converting-datatypes-of-columns)\n",
    "\n",
    "After these steps we can move to feature engineering, this work is done in the `FeatureEngineering.ipynb` Notebook."
   ]
  },
  {
   "cell_type": "markdown",
   "metadata": {},
   "source": [
    "## Merging Datasets"
   ]
  },
  {
   "cell_type": "code",
   "execution_count": 18,
   "metadata": {},
   "outputs": [
    {
     "name": "stdout",
     "output_type": "stream",
     "text": [
      "(37541, 75)\n"
     ]
    }
   ],
   "source": [
    "# Can skip to Column removal if provided full dataset\n",
    "# Load Sepetember Dataset, it is the most recent\n",
    "# Want to keep rows from this dataset & omit duplicates from other months\n",
    "df = pd.read_csv(\"Datasets/AirbnbData/Sep.csv\")\n",
    "\n",
    "print(df.shape)"
   ]
  },
  {
   "cell_type": "code",
   "execution_count": 19,
   "metadata": {},
   "outputs": [
    {
     "name": "stdout",
     "output_type": "stream",
     "text": [
      "(37541, 75)\n"
     ]
    }
   ],
   "source": [
    "# Can skip to Column removal if provided full dataset\n",
    "# Load Sepetember Dataset, it is the most recent\n",
    "# Want to keep rows from this dataset & omit duplicates from other months\n",
    "df = pd.read_csv(\"Datasets/AirbnbData/Sep.csv\")\n",
    "\n",
    "print(df.shape)"
   ]
  },
  {
   "cell_type": "code",
   "execution_count": 20,
   "metadata": {},
   "outputs": [
    {
     "name": "stdout",
     "output_type": "stream",
     "text": [
      "(42432, 75)\n"
     ]
    }
   ],
   "source": [
    "# Merging Step, don't run this part if only using subset\n",
    "months = [\"Aug\", \"July\", \"June\", \"May\"]\n",
    "\n",
    "for month in months:\n",
    "    df_2 = pd.read_csv(f\"Datasets/AirbnbData/{month}.csv\")\n",
    "    \n",
    "    df = pd.concat([\n",
    "        df, \n",
    "        df_2[df_2[\"id\"].isin(df[\"id\"]) == False]\n",
    "    ]\n",
    "    )\n",
    "\n",
    "print(df.shape)"
   ]
  },
  {
   "cell_type": "code",
   "execution_count": 21,
   "metadata": {},
   "outputs": [
    {
     "data": {
      "text/plain": [
       "42432"
      ]
     },
     "execution_count": 21,
     "metadata": {},
     "output_type": "execute_result"
    }
   ],
   "source": [
    "# Checking that we do not have duplicate listings\n",
    "len(df[\"id\"].unique())"
   ]
  },
  {
   "cell_type": "code",
   "execution_count": 22,
   "metadata": {},
   "outputs": [],
   "source": [
    "# Save df to a new dataset so we don't have to re-run merging\n",
    "df.to_csv(\"Datasets/AirbnbData/Full_listings.csv\", index=False)"
   ]
  },
  {
   "cell_type": "markdown",
   "metadata": {},
   "source": [
    "## Unecessary Column Removal/Pruning \n",
    "\n",
    "Columns to Remove:\n",
    "- listing_url\n",
    "- scrape_id\n",
    "- source\n",
    "- host_url\n",
    "- host_thumbnail_url\n",
    "- host_picture_url\n",
    "- calendar_updated\n",
    "- calendar_last_scraped\n",
    "- first_review\n",
    "- last_review\n",
    "\n",
    "These don't provide us with any useful information for the goal of creating a predictive model, these columns were selecting after looking over the [data descritpion](https://docs.google.com/spreadsheets/d/1iWCNJcSutYqpULSQHlNyGInUvHg2BoUGoNRIGa6Szc4/edit?gid=1322284596#gid=1322284596), we will likely drop more columns later on after conducting EDA which might uncover more columns as being not impactful."
   ]
  },
  {
   "cell_type": "code",
   "execution_count": 23,
   "metadata": {},
   "outputs": [
    {
     "data": {
      "text/plain": [
       "Index(['id', 'listing_url', 'scrape_id', 'last_scraped', 'source', 'name',\n",
       "       'description', 'neighborhood_overview', 'picture_url', 'host_id',\n",
       "       'host_url', 'host_name', 'host_since', 'host_location', 'host_about',\n",
       "       'host_response_time', 'host_response_rate', 'host_acceptance_rate',\n",
       "       'host_is_superhost', 'host_thumbnail_url', 'host_picture_url',\n",
       "       'host_neighbourhood', 'host_listings_count',\n",
       "       'host_total_listings_count', 'host_verifications',\n",
       "       'host_has_profile_pic', 'host_identity_verified', 'neighbourhood',\n",
       "       'neighbourhood_cleansed', 'neighbourhood_group_cleansed', 'latitude',\n",
       "       'longitude', 'property_type', 'room_type', 'accommodates', 'bathrooms',\n",
       "       'bathrooms_text', 'bedrooms', 'beds', 'amenities', 'price',\n",
       "       'minimum_nights', 'maximum_nights', 'minimum_minimum_nights',\n",
       "       'maximum_minimum_nights', 'minimum_maximum_nights',\n",
       "       'maximum_maximum_nights', 'minimum_nights_avg_ntm',\n",
       "       'maximum_nights_avg_ntm', 'calendar_updated', 'has_availability',\n",
       "       'availability_30', 'availability_60', 'availability_90',\n",
       "       'availability_365', 'calendar_last_scraped', 'number_of_reviews',\n",
       "       'number_of_reviews_ltm', 'number_of_reviews_l30d', 'first_review',\n",
       "       'last_review', 'review_scores_rating', 'review_scores_accuracy',\n",
       "       'review_scores_cleanliness', 'review_scores_checkin',\n",
       "       'review_scores_communication', 'review_scores_location',\n",
       "       'review_scores_value', 'license', 'instant_bookable',\n",
       "       'calculated_host_listings_count',\n",
       "       'calculated_host_listings_count_entire_homes',\n",
       "       'calculated_host_listings_count_private_rooms',\n",
       "       'calculated_host_listings_count_shared_rooms', 'reviews_per_month'],\n",
       "      dtype='object')"
      ]
     },
     "execution_count": 23,
     "metadata": {},
     "output_type": "execute_result"
    }
   ],
   "source": [
    "# Load the combined dataset \n",
    "df = pd.read_csv(\"Datasets/AirbnbData/Full_listings.csv\")\n",
    "\n",
    "# Get an idea of what all the columns are\n",
    "df.columns"
   ]
  },
  {
   "cell_type": "code",
   "execution_count": 24,
   "metadata": {},
   "outputs": [],
   "source": [
    "drop_cols = [\n",
    "    \"listing_url\",\n",
    "    \"scrape_id\",\n",
    "    \"source\",\n",
    "    \"host_url\",\n",
    "    \"host_thumbnail_url\",\n",
    "    \"host_picture_url\",\n",
    "    \"calendar_updated\",\n",
    "    \"calendar_last_scraped\",\n",
    "    \"first_review\",\n",
    "    \"last_review\",\n",
    "    \"neighbourhood\"\n",
    "]\n",
    "df.drop(drop_cols, axis=1, inplace=True)"
   ]
  },
  {
   "cell_type": "code",
   "execution_count": 25,
   "metadata": {},
   "outputs": [
    {
     "data": {
      "text/plain": [
       "Index(['id', 'last_scraped', 'name', 'description', 'neighborhood_overview',\n",
       "       'picture_url', 'host_id', 'host_name', 'host_since', 'host_location',\n",
       "       'host_about', 'host_response_time', 'host_response_rate',\n",
       "       'host_acceptance_rate', 'host_is_superhost', 'host_neighbourhood',\n",
       "       'host_listings_count', 'host_total_listings_count',\n",
       "       'host_verifications', 'host_has_profile_pic', 'host_identity_verified',\n",
       "       'neighbourhood_cleansed', 'neighbourhood_group_cleansed', 'latitude',\n",
       "       'longitude', 'property_type', 'room_type', 'accommodates', 'bathrooms',\n",
       "       'bathrooms_text', 'bedrooms', 'beds', 'amenities', 'price',\n",
       "       'minimum_nights', 'maximum_nights', 'minimum_minimum_nights',\n",
       "       'maximum_minimum_nights', 'minimum_maximum_nights',\n",
       "       'maximum_maximum_nights', 'minimum_nights_avg_ntm',\n",
       "       'maximum_nights_avg_ntm', 'has_availability', 'availability_30',\n",
       "       'availability_60', 'availability_90', 'availability_365',\n",
       "       'number_of_reviews', 'number_of_reviews_ltm', 'number_of_reviews_l30d',\n",
       "       'review_scores_rating', 'review_scores_accuracy',\n",
       "       'review_scores_cleanliness', 'review_scores_checkin',\n",
       "       'review_scores_communication', 'review_scores_location',\n",
       "       'review_scores_value', 'license', 'instant_bookable',\n",
       "       'calculated_host_listings_count',\n",
       "       'calculated_host_listings_count_entire_homes',\n",
       "       'calculated_host_listings_count_private_rooms',\n",
       "       'calculated_host_listings_count_shared_rooms', 'reviews_per_month'],\n",
       "      dtype='object')"
      ]
     },
     "execution_count": 25,
     "metadata": {},
     "output_type": "execute_result"
    }
   ],
   "source": [
    "df.columns"
   ]
  },
  {
   "cell_type": "markdown",
   "metadata": {},
   "source": [
    "## Handling Missing Values\n",
    "\n",
    "We will handle missing values using a variety of techniques, imputing values based on median or mean, filling values with zero or estimating a column based on the values of another column.  \n",
    "Additionally, If a column has large proportion of N/A values, we may decide drop the column entirely.\n",
    "The technique use will depend on the column, comments will provide a breif overview as to which technique was used and why."
   ]
  },
  {
   "cell_type": "code",
   "execution_count": 26,
   "metadata": {},
   "outputs": [
    {
     "name": "stdout",
     "output_type": "stream",
     "text": [
      "name: 2\n",
      "description: 1396\n",
      "neighborhood_overview: 19228\n",
      "picture_url: 1\n",
      "host_name: 5\n",
      "host_since: 5\n",
      "host_location: 9503\n",
      "host_about: 18465\n",
      "host_response_time: 15771\n",
      "host_response_rate: 15771\n",
      "host_acceptance_rate: 14948\n",
      "host_is_superhost: 480\n",
      "host_neighbourhood: 8924\n",
      "host_listings_count: 5\n",
      "host_total_listings_count: 5\n",
      "host_verifications: 5\n",
      "host_has_profile_pic: 5\n",
      "host_identity_verified: 5\n",
      "bathrooms: 15539\n",
      "bathrooms_text: 36\n",
      "bedrooms: 6130\n",
      "beds: 15703\n",
      "price: 15544\n",
      "minimum_minimum_nights: 1\n",
      "maximum_minimum_nights: 1\n",
      "minimum_maximum_nights: 1\n",
      "maximum_maximum_nights: 1\n",
      "minimum_nights_avg_ntm: 1\n",
      "maximum_nights_avg_ntm: 1\n",
      "has_availability: 5487\n",
      "review_scores_rating: 13422\n",
      "review_scores_accuracy: 13434\n",
      "review_scores_cleanliness: 13424\n",
      "review_scores_checkin: 13438\n",
      "review_scores_communication: 13429\n",
      "review_scores_location: 13441\n",
      "review_scores_value: 13440\n",
      "license: 36070\n",
      "reviews_per_month: 13422\n"
     ]
    }
   ],
   "source": [
    "# Check which columns have N/A values and how many/what percentage\n",
    "for column in df.columns:\n",
    "    missing_count = df[column].isna().sum()\n",
    "    if missing_count > 0:\n",
    "        print(f'{column}: {missing_count}')"
   ]
  },
  {
   "cell_type": "code",
   "execution_count": 27,
   "metadata": {},
   "outputs": [],
   "source": [
    "# Start with text columns: name, description, neighborhood_overview, host_name, picture_url, host_about\n",
    "# We will change the missing values to these to just \"None\", when we do a sentiment/text quality analysis, we will automatically give these columns the lowest score/default score\n",
    "df.fillna({\n",
    "    \"name\": \"None\",\n",
    "    \"description\": \"None\",\n",
    "    \"neighborhood_overview\": \"None\",\n",
    "    \"host_name\": \"None\",\n",
    "    \"host_about\": \"None\"\n",
    "}, inplace=True)\n",
    "\n",
    "# Dropping the row without a picture url since there is only 1 row so it won't reduce our dataset size by any significant amount\n",
    "# This column may or may not be used depending on whether we do feature engineering based on the photo of the airbnb\n",
    "df.dropna(subset=[\"picture_url\"], inplace=True)"
   ]
  },
  {
   "cell_type": "code",
   "execution_count": 28,
   "metadata": {},
   "outputs": [],
   "source": [
    "# Next do Boolean/True False Columns: host_is_superhost, host_has_profile_pic, host_identity_verified, has_availability, license\n",
    "\n",
    "# Columns that will will automatically be false, for these columns, we make the assumption that NaN would be false\n",
    "# since having no value in these columns would correspond to not having superhost status, or not having a profile picture/license \n",
    "df.fillna({\n",
    "    \"host_is_superhost\": \"f\",\n",
    "    \"host_has_profile_pic\": \"f\",\n",
    "    \"license\": \"f\"\n",
    "}, inplace=True)\n",
    "\n",
    "# To fill host_identity_verified, use the host_verifications which lists what methods of verification the host has, \n",
    "# if this other column is NaN or an empty list then we make the host_identity_verified column false \n",
    "df.loc[df['host_identity_verified'].isna(), 'host_identity_verified'] = df.loc[df['host_identity_verified'].isna(), 'host_verifications'].apply(\n",
    "    lambda x: \"f\" if pd.isna(x) or x == '[]' else \"t\"\n",
    ")\n",
    "\n",
    "# To fill has_availability, use availability_30 to check how many days of availabilty there are in the next 30 days, if this number is > 0 then set the value to true\n",
    "df.loc[df['has_availability'].isna(), 'has_availability'] = df.loc[df['has_availability'].isna(), 'availability_30'].apply(\n",
    "    lambda x: \"t\" if x > 0 else 'f'\n",
    ")"
   ]
  },
  {
   "cell_type": "code",
   "execution_count": null,
   "metadata": {},
   "outputs": [],
   "source": [
    "# Then do host related columns that haven't been filled yet: host_since, host_location, host_response_time, host_response_rate, host_acceptance_rate, host_neighbourhood, host_listings_count, host_total_listings_count, host_verifications\n",
    "# host_verifications, fill NaN with '[]' since NaN means the host hasn't been verified\n",
    "df.fillna({\"host_verifications\": '[]'}, inplace=True)\n",
    "\n",
    "# host_since, set value to date of corresponding last_scraped of the column, since that is when that listing was scraped\n",
    "df.loc[df['host_since'].isna(), 'host_since'] = df.loc[df['host_since'].isna(), 'last_scraped']\n",
    "\n",
    "# host_location & host_neighbourhood, want to\n",
    "\n",
    "# host_response_time, host_response_rate, host_acceptance_rate\n",
    "\n",
    "# host_listings_count &  host_total_listings_count"
   ]
  },
  {
   "cell_type": "code",
   "execution_count": 30,
   "metadata": {},
   "outputs": [],
   "source": [
    "# Handle bed & bathroom columns: bathrooms, bathrooms_text, bedrooms, beds"
   ]
  },
  {
   "cell_type": "code",
   "execution_count": 31,
   "metadata": {},
   "outputs": [],
   "source": [
    "# Handle rest of numerical columns: price, reviews_score_*, *_nights"
   ]
  },
  {
   "cell_type": "markdown",
   "metadata": {},
   "source": [
    "## Converting Datatypes of columns\n",
    "\n",
    "Some of the columns currently have type object, for example price needs to be converted to a numerical object, and the True/False columns need to be converted to Boolean/0,1 columns."
   ]
  },
  {
   "cell_type": "code",
   "execution_count": 32,
   "metadata": {},
   "outputs": [
    {
     "name": "stdout",
     "output_type": "stream",
     "text": [
      "id: int64\n",
      "last_scraped: object\n",
      "name: object\n",
      "description: object\n",
      "neighborhood_overview: object\n",
      "picture_url: object\n",
      "host_id: int64\n",
      "host_name: object\n",
      "host_since: object\n",
      "host_location: object\n",
      "host_about: object\n",
      "host_response_time: object\n",
      "host_response_rate: object\n",
      "host_acceptance_rate: object\n",
      "host_is_superhost: object\n",
      "host_neighbourhood: object\n",
      "host_listings_count: float64\n",
      "host_total_listings_count: float64\n",
      "host_verifications: object\n",
      "host_has_profile_pic: object\n",
      "host_identity_verified: object\n",
      "neighbourhood_cleansed: object\n",
      "neighbourhood_group_cleansed: object\n",
      "latitude: float64\n",
      "longitude: float64\n",
      "property_type: object\n",
      "room_type: object\n",
      "accommodates: int64\n",
      "bathrooms: float64\n",
      "bathrooms_text: object\n",
      "bedrooms: float64\n",
      "beds: float64\n",
      "amenities: object\n",
      "price: object\n",
      "minimum_nights: int64\n",
      "maximum_nights: int64\n",
      "minimum_minimum_nights: float64\n",
      "maximum_minimum_nights: float64\n",
      "minimum_maximum_nights: float64\n",
      "maximum_maximum_nights: float64\n",
      "minimum_nights_avg_ntm: float64\n",
      "maximum_nights_avg_ntm: float64\n",
      "has_availability: object\n",
      "availability_30: int64\n",
      "availability_60: int64\n",
      "availability_90: int64\n",
      "availability_365: int64\n",
      "number_of_reviews: int64\n",
      "number_of_reviews_ltm: int64\n",
      "number_of_reviews_l30d: int64\n",
      "review_scores_rating: float64\n",
      "review_scores_accuracy: float64\n",
      "review_scores_cleanliness: float64\n",
      "review_scores_checkin: float64\n",
      "review_scores_communication: float64\n",
      "review_scores_location: float64\n",
      "review_scores_value: float64\n",
      "license: object\n",
      "instant_bookable: object\n",
      "calculated_host_listings_count: int64\n",
      "calculated_host_listings_count_entire_homes: int64\n",
      "calculated_host_listings_count_private_rooms: int64\n",
      "calculated_host_listings_count_shared_rooms: int64\n",
      "reviews_per_month: float64\n"
     ]
    }
   ],
   "source": [
    "for column in df.columns:\n",
    "    print(f'{column}: {df[column].dtype}')"
   ]
  }
 ],
 "metadata": {
  "kernelspec": {
   "display_name": "Python 3",
   "language": "python",
   "name": "python3"
  },
  "language_info": {
   "codemirror_mode": {
    "name": "ipython",
    "version": 3
   },
   "file_extension": ".py",
   "mimetype": "text/x-python",
   "name": "python",
   "nbconvert_exporter": "python",
   "pygments_lexer": "ipython3",
   "version": "3.12.1"
  }
 },
 "nbformat": 4,
 "nbformat_minor": 2
}
